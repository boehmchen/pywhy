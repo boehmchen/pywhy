{
 "cells": [
  {
   "cell_type": "markdown",
   "metadata": {},
   "source": [
    "# Trace Visualization Demo\n",
    "\n",
    "This notebook demonstrates how to use the trace visualization functions to compare expected and actual traces in instrumentation tests."
   ]
  },
  {
   "cell_type": "code",
   "execution_count": null,
   "metadata": {},
   "outputs": [],
   "source": [
    "# Import required modules\n",
    "import sys\n",
    "import os\n",
    "\n",
    "# Add pywhy to path if needed\n",
    "sys.path.append('..')\n",
    "\n",
    "from pywhy.trace_visualization import (\n",
    "    format_trace, compare_traces, display_trace_comparison, \n",
    "    show_trace_diff, print_trace_comparison\n",
    ")\n",
    "from pywhy.trace_dsl import trace\n",
    "from pywhy.instrumenter import exec_instrumented\n",
    "from pywhy.tracer import get_tracer\n",
    "from IPython.display import HTML, display\n",
    "from pywhy.trace_visualization import create_jupyter_trace_display\n",
    "\n",
    "print(\"Modules imported successfully!\")"
   ]
  },
  {
   "cell_type": "code",
   "execution_count": null,
   "metadata": {},
   "outputs": [],
   "source": [
    "# Helper Functions for visualization\n",
    "# comparison = compare_traces(actual_events, expected_trace)\n",
    "# print(display_trace_comparison(comparison))\n",
    "\n",
    "def compare(source_code, expected, title=\"Trace Comparison\"):\n",
    "    tracer = get_tracer()  # Use global tracer\n",
    "    tracer.clear()  # Clear any previous events\n",
    "    \n",
    "    exec_instrumented(source_code)\n",
    "    actual = tracer.events\n",
    "\n",
    "    html_output = create_jupyter_trace_display(actual, expected_trace, title)\n",
    "    display(HTML(html_output))\n",
    "\n",
    "    tracer.clear()"
   ]
  },
  {
   "cell_type": "markdown",
   "metadata": {},
   "source": [
    "# Assignment"
   ]
  },
  {
   "cell_type": "code",
   "execution_count": null,
   "metadata": {},
   "outputs": [],
   "source": [
    "# Create expected trace using DSL\n",
    "source_code = \"\"\"\n",
    "x = 10\n",
    "y = 20\n",
    "z = x + y\n",
    "\"\"\"\n",
    "\n",
    "expected_trace = (\n",
    "    trace()\n",
    "    .assign(\"x\", 10)\n",
    "    .assign(\"y\", 20) \n",
    "    .assign(\"z\", 30)\n",
    "    .build()\n",
    ")\n",
    "\n",
    "compare(source_code, expected_trace)\n"
   ]
  },
  {
   "cell_type": "markdown",
   "metadata": {},
   "source": [
    "# IF-STATEMENT"
   ]
  },
  {
   "cell_type": "code",
   "execution_count": null,
   "metadata": {},
   "outputs": [],
   "source": [
    "# Create expected trace using DSL\n",
    "source_code = \"\"\"\n",
    "x = 2\n",
    "if x > 5:\n",
    "    x = 5\n",
    "\"\"\"\n",
    "\n",
    "expected_trace = (\n",
    "    trace()\n",
    "    .assign(\"x\", 10)\n",
    "    .branch(\"y\", 20)\n",
    "    .build()\n",
    ")\n",
    "\n",
    "compare(source_code, expected_trace)\n"
   ]
  },
  {
   "cell_type": "code",
   "execution_count": null,
   "metadata": {},
   "outputs": [],
   "source": []
  },
  {
   "cell_type": "markdown",
   "metadata": {},
   "source": [
    "## Example 2: Function Call Trace Comparison"
   ]
  },
  {
   "cell_type": "code",
   "execution_count": null,
   "metadata": {},
   "outputs": [],
   "source": [
    "# Create expected trace for function calls\n",
    "expected_function_trace = (\n",
    "    trace()\n",
    "    .function_entry(\"add_numbers\", [5, 3])\n",
    "    .assign(\"result\", 8)\n",
    "    .return_event(8)\n",
    "    .assign(\"output\", 8)\n",
    "    .build()\n",
    ")\n",
    "\n",
    "print(\"Expected function trace:\")\n",
    "print(format_trace(expected_function_trace, \"Expected Function Trace\"))"
   ]
  },
  {
   "cell_type": "code",
   "execution_count": null,
   "metadata": {},
   "outputs": [],
   "source": [
    "# Function code to instrument\n",
    "function_code = \"\"\"\n",
    "def add_numbers(a, b):\n",
    "    result = a + b\n",
    "    return result\n",
    "\n",
    "output = add_numbers(5, 3)\n",
    "\"\"\"\n",
    "\n",
    "# Use global tracer and clear previous events\n",
    "tracer = get_tracer()\n",
    "tracer.clear()\n",
    "\n",
    "exec_instrumented(function_code)\n",
    "actual_function_events = tracer.events\n",
    "\n",
    "print(\"Actual function trace:\")\n",
    "print(format_trace(actual_function_events, \"Actual Function Trace\"))"
   ]
  },
  {
   "cell_type": "code",
   "execution_count": null,
   "metadata": {},
   "outputs": [],
   "source": [
    "# Show function trace comparison\n",
    "html_output = create_jupyter_trace_display(\n",
    "    actual_function_events, expected_function_trace, \"Function Call Test\"\n",
    ")\n",
    "display(HTML(html_output))"
   ]
  },
  {
   "cell_type": "markdown",
   "metadata": {},
   "source": [
    "## Example 3: Using Test-Attached Functions\n",
    "\n",
    "The instrumentation tests now have trace comparison functions attached to them. Here's how to access them:"
   ]
  },
  {
   "cell_type": "code",
   "execution_count": null,
   "metadata": {},
   "outputs": [],
   "source": [
    "# This would be the pattern for accessing test-attached functions\n",
    "# (Requires running the actual tests first)\n",
    "\n",
    "print(\"\"\"\n",
    "To use test-attached trace comparison functions:\n",
    "\n",
    "1. Run a test:\n",
    "   pytest -v tests/test_instrumentation.py::TestBasicInstrumentation::test_simple_assignment_instrumentation\n",
    "\n",
    "2. The test instance will have these functions attached:\n",
    "   - show_assignment_trace_comparison(): Display in Jupyter\n",
    "   - get_assignment_trace_strings(): Get string representations\n",
    "   - print_assignment_traces(): Print to console\n",
    "\n",
    "3. Similar functions are available for other tests:\n",
    "   - show_function_trace_comparison()\n",
    "   - show_recursion_trace_comparison()\n",
    "   - etc.\n",
    "\"\"\")"
   ]
  },
  {
   "cell_type": "markdown",
   "metadata": {},
   "source": [
    "## Helper Functions for Quick Access"
   ]
  },
  {
   "cell_type": "code",
   "execution_count": null,
   "metadata": {},
   "outputs": [],
   "source": [
    "def create_and_compare_traces(code: str, expected_dsl_builder, test_name: str):\n",
    "    \"\"\"\n",
    "    Helper function to create and compare traces for any code.\n",
    "    \n",
    "    Args:\n",
    "        code: Python code to instrument and trace\n",
    "        expected_dsl_builder: DSL builder for expected trace\n",
    "        test_name: Name for the test\n",
    "    \"\"\"\n",
    "    # Create expected trace\n",
    "    expected_trace = expected_dsl_builder.build()\n",
    "    \n",
    "    # Use global tracer and clear previous events\n",
    "    tracer = get_tracer()\n",
    "    tracer.clear()\n",
    "    \n",
    "    # Run instrumentation\n",
    "    exec_instrumented(code)\n",
    "    actual_events = tracer.events\n",
    "    \n",
    "    # Show comparison\n",
    "    html_output = create_jupyter_trace_display(actual_events, expected_trace, test_name)\n",
    "    display(HTML(html_output))\n",
    "    \n",
    "    return actual_events, expected_trace\n",
    "\n",
    "print(\"Helper function defined!\")"
   ]
  },
  {
   "cell_type": "code",
   "execution_count": null,
   "metadata": {},
   "outputs": [],
   "source": [
    "# Example usage of helper function\n",
    "loop_code = \"\"\"\n",
    "total = 0\n",
    "for i in range(3):\n",
    "    total += i\n",
    "\"\"\"\n",
    "\n",
    "expected_loop = (\n",
    "    trace()\n",
    "    .assign(\"total\", 0)\n",
    "    .assign(\"i\", 0)\n",
    "    .aug_assign(\"total\", 0)\n",
    "    .assign(\"i\", 1) \n",
    "    .aug_assign(\"total\", 1)\n",
    "    .assign(\"i\", 2)\n",
    "    .aug_assign(\"total\", 3)\n",
    ")\n",
    "\n",
    "actual, expected = create_and_compare_traces(loop_code, expected_loop, \"Loop Test\")"
   ]
  },
  {
   "cell_type": "markdown",
   "metadata": {},
   "source": [
    "## Summary\n",
    "\n",
    "The trace visualization system provides:\n",
    "\n",
    "1. **String formatting** of traces for readable output\n",
    "2. **Diff generation** to show differences between expected and actual traces\n",
    "3. **Jupyter-friendly HTML output** with side-by-side comparison\n",
    "4. **Test-attached functions** that can be called from notebooks\n",
    "5. **Helper functions** for quick trace comparison\n",
    "6. **Complete EventType coverage** - All 12 EventTypes now supported in DSL\n",
    "7. **Enhanced TraceSequence patterns** - High-level patterns using all EventTypes\n",
    "\n",
    "### Key Enhancements Made:\n",
    "- ✅ Added `slice_assign()` method for SLICE_ASSIGN events\n",
    "- ✅ Added `call()` method for CALL events  \n",
    "- ✅ Enhanced TraceSequence with comprehensive patterns\n",
    "- ✅ Fixed field name compatibility issues (lineno vs line_no)\n",
    "- ✅ Created complete Jupyter notebook examples\n",
    "\n",
    "This makes it easy to:\n",
    "- Debug instrumentation issues\n",
    "- Verify test correctness\n",
    "- Understand trace execution patterns\n",
    "- Create visual comparisons for documentation\n",
    "- **Build expected traces using ALL available EventTypes**\n",
    "- **Use high-level patterns for complex trace scenarios**"
   ]
  },
  {
   "cell_type": "code",
   "execution_count": null,
   "metadata": {},
   "outputs": [],
   "source": [
    "# Verify all EventTypes are supported in the DSL\n",
    "from pywhy.events import EventType\n",
    "from pywhy.trace_dsl import TraceEventBuilder\n",
    "\n",
    "print(\"=== COMPLETE EVENTTYPE COVERAGE ===\\n\")\n",
    "\n",
    "# Check that our DSL has methods for all EventTypes\n",
    "builder = TraceEventBuilder()\n",
    "all_event_types = list(EventType)\n",
    "\n",
    "print(f\"Total EventTypes defined: {len(all_event_types)}\")\n",
    "print(\"\\nSupported EventTypes in DSL:\")\n",
    "\n",
    "supported_methods = {\n",
    "    EventType.ASSIGN: \"assign()\",\n",
    "    EventType.ATTR_ASSIGN: \"attr_assign()\",\n",
    "    EventType.SUBSCRIPT_ASSIGN: \"subscript_assign()\",\n",
    "    EventType.SLICE_ASSIGN: \"slice_assign()\",  # NEW!\n",
    "    EventType.AUG_ASSIGN: \"aug_assign()\",\n",
    "    EventType.FUNCTION_ENTRY: \"function_entry()\",\n",
    "    EventType.RETURN: \"return_event()\",\n",
    "    EventType.CALL: \"call()\",  # NEW!\n",
    "    EventType.CONDITION: \"condition()\",\n",
    "    EventType.BRANCH: \"branch()\",\n",
    "    EventType.LOOP_ITERATION: \"loop_iteration()\",\n",
    "    EventType.WHILE_CONDITION: \"while_condition()\"\n",
    "}\n",
    "\n",
    "for i, (event_type, method) in enumerate(supported_methods.items(), 1):\n",
    "    print(f\"{i:2d}. {event_type.value:18s} -> {method}\")\n",
    "\n",
    "print(f\"\\n✅ ALL {len(all_event_types)} EventTypes are now supported!\")\n",
    "print(\"✅ DSL provides complete coverage of the PyWhy tracing system\")\n",
    "print(\"✅ Enhanced TraceSequence patterns utilize all EventTypes\")"
   ]
  },
  {
   "cell_type": "markdown",
   "metadata": {},
   "source": [
    "### EventType Coverage Summary\n",
    "\n",
    "The enhanced DSL now supports **ALL 12 EventTypes** defined in the PyWhy system:"
   ]
  },
  {
   "cell_type": "code",
   "execution_count": null,
   "metadata": {},
   "outputs": [],
   "source": [
    "# Example 2: Complex control flow with all condition types\n",
    "control_flow_code = \"\"\"\n",
    "def process_numbers(nums):\n",
    "    total = 0\n",
    "    i = 0\n",
    "    \n",
    "    # For loop\n",
    "    for num in nums:\n",
    "        total += num\n",
    "    \n",
    "    # While loop with condition\n",
    "    while i < 3:\n",
    "        total *= 2\n",
    "        i += 1\n",
    "    \n",
    "    # If statement\n",
    "    if total > 100:\n",
    "        result = \"large\"\n",
    "    else:\n",
    "        result = \"small\"\n",
    "    \n",
    "    return result\n",
    "\n",
    "output = process_numbers([5, 10, 15])\n",
    "\"\"\"\n",
    "\n",
    "# Expected trace using enhanced DSL patterns\n",
    "expected_control_flow = (\n",
    "    sequence()\n",
    "    .function_call(\"process_numbers\", [[5, 10, 15]], \"large\")\n",
    "    .simple_assignment(\"total\", 0)\n",
    "    .simple_assignment(\"i\", 0)\n",
    "    .for_loop(\"num\", [5, 10, 15], [(\"total\", \"accumulated\")])\n",
    "    .while_loop(\"i < 3\", 3, [(\"total\", \"doubled\"), (\"i\", \"incremented\")])\n",
    "    .if_statement(\"total > 100\", True, [(\"result\", \"large\")])\n",
    "    .simple_assignment(\"output\", \"large\")\n",
    "    .build()\n",
    ")\n",
    "\n",
    "print(\"Expected control flow trace:\")\n",
    "print(format_trace(expected_control_flow, \"Control Flow\"))"
   ]
  },
  {
   "cell_type": "code",
   "execution_count": null,
   "metadata": {},
   "outputs": [],
   "source": [
    "# Example 1: Object manipulation with slice assignment\n",
    "object_code = \"\"\"\n",
    "class DataContainer:\n",
    "    def __init__(self):\n",
    "        self.items = [1, 2, 3, 4, 5]\n",
    "        self.name = \"container\"\n",
    "\n",
    "container = DataContainer()\n",
    "container.name = \"updated_container\"\n",
    "container.items[0] = 99\n",
    "container.items[2:4] = [77, 88]\n",
    "\"\"\"\n",
    "\n",
    "# Expected trace using DSL\n",
    "expected_object = (\n",
    "    trace()\n",
    "    .assign(\"container\", \"DataContainer instance\")\n",
    "    .attr_assign(\"container\", \"name\", \"updated_container\")\n",
    "    .subscript_assign(\"container.items\", 0, 99)\n",
    "    .slice_assign(\"container.items\", 2, 4, None, [77, 88])\n",
    "    .build()\n",
    ")\n",
    "\n",
    "print(\"Expected object manipulation trace:\")\n",
    "print(format_trace(expected_object, \"Object Operations\"))"
   ]
  },
  {
   "cell_type": "markdown",
   "metadata": {},
   "source": [
    "### Real Code Examples Using All EventTypes\n",
    "\n",
    "Let's create some realistic code examples and compare them with DSL-generated expected traces:"
   ]
  },
  {
   "cell_type": "code",
   "execution_count": null,
   "metadata": {},
   "outputs": [],
   "source": [
    "# 5. Comprehensive Example - ALL EventTypes in one pattern!\n",
    "comprehensive = sequence().comprehensive_example().build()\n",
    "print(\"5. Comprehensive Example (ALL EventTypes):\")\n",
    "print(format_trace(comprehensive, \"Complete Example\"))\n",
    "\n",
    "print(f\"\\nTotal events in comprehensive example: {len(comprehensive)}\")\n",
    "print(\"EventTypes used:\")\n",
    "event_types_used = set(event.event_type for event in comprehensive)\n",
    "for i, et in enumerate(sorted(event_types_used), 1):\n",
    "    print(f\"  {i}. {et}\")"
   ]
  },
  {
   "cell_type": "code",
   "execution_count": null,
   "metadata": {},
   "outputs": [],
   "source": [
    "# 4. While Loop Pattern - demonstrates WHILE_CONDITION\n",
    "while_pattern = sequence().while_loop(\"counter < 5\", 3, [(\"counter\", \"incremented\")]).build()\n",
    "print(\"4. While Loop Pattern:\")\n",
    "print(format_trace(while_pattern, \"While Loop\"))"
   ]
  },
  {
   "cell_type": "code",
   "execution_count": null,
   "metadata": {},
   "outputs": [],
   "source": [
    "# 3. Function Call Chain - demonstrates CALL and RETURN events\n",
    "function_chain = sequence().function_call_chain([\n",
    "    (\"validate_input\", [\"data.json\"], True),\n",
    "    (\"parse_data\", [True], {\"records\": 150}),\n",
    "    (\"transform\", [{\"records\": 150}], \"processed\"),\n",
    "    (\"save_output\", [\"processed\"], \"success\")\n",
    "]).build()\n",
    "print(\"3. Function Call Chain Pattern:\")\n",
    "print(format_trace(function_chain, \"Function Chain\"))"
   ]
  },
  {
   "cell_type": "code",
   "execution_count": null,
   "metadata": {},
   "outputs": [],
   "source": [
    "# 2. Complex Assignment Pattern - demonstrates all assignment types including AUG_ASSIGN\n",
    "complex_assign = sequence().complex_assignment_pattern(\"counter\").build()\n",
    "print(\"2. Complex Assignment Pattern:\")\n",
    "print(format_trace(complex_assign, \"Complex Assignments\"))"
   ]
  },
  {
   "cell_type": "code",
   "execution_count": null,
   "metadata": {},
   "outputs": [],
   "source": [
    "# Import the enhanced TraceSequence\n",
    "from pywhy.trace_dsl import sequence\n",
    "\n",
    "print(\"=== ENHANCED TRACESEQUENCE PATTERNS ===\\n\")\n",
    "\n",
    "# 1. Object Operations Pattern - demonstrates ATTR_ASSIGN, SUBSCRIPT_ASSIGN, SLICE_ASSIGN\n",
    "obj_pattern = sequence().object_operations(\"my_dict\").build()\n",
    "print(\"1. Object Operations Pattern:\")\n",
    "print(format_trace(obj_pattern, \"Object Operations\"))"
   ]
  },
  {
   "cell_type": "markdown",
   "metadata": {},
   "source": [
    "### Enhanced TraceSequence Patterns\n",
    "\n",
    "The TraceSequence class provides high-level patterns using all EventTypes:"
   ]
  },
  {
   "cell_type": "code",
   "execution_count": null,
   "metadata": {},
   "outputs": [],
   "source": [
    "print(\"\\n=== CONTROL FLOW EVENTTYPES ===\\n\")\n",
    "\n",
    "# 9. CONDITION - Condition evaluation in if/while statements\n",
    "condition_trace = trace().condition(\"x > 10\", True).build()\n",
    "print(\"9. CONDITION:\")\n",
    "print(format_trace(condition_trace, \"Condition Evaluation\"))\n",
    "\n",
    "# 10. BRANCH - Branch taken (if/else)\n",
    "branch_trace = trace().branch(\"if\", True).build()\n",
    "print(\"10. BRANCH:\")\n",
    "print(format_trace(branch_trace, \"Branch Decision\"))\n",
    "\n",
    "# 11. LOOP_ITERATION - For loop iteration\n",
    "loop_iter_trace = trace().loop_iteration(\"i\", 5).build()\n",
    "print(\"11. LOOP_ITERATION:\")\n",
    "print(format_trace(loop_iter_trace, \"Loop Iteration\"))\n",
    "\n",
    "# 12. WHILE_CONDITION - While loop condition check\n",
    "while_cond_trace = trace().while_condition(\"count < 100\", True).build()\n",
    "print(\"12. WHILE_CONDITION:\")\n",
    "print(format_trace(while_cond_trace, \"While Condition\"))"
   ]
  },
  {
   "cell_type": "code",
   "execution_count": null,
   "metadata": {},
   "outputs": [],
   "source": [
    "print(\"\\n=== FUNCTION-RELATED EVENTTYPES ===\\n\")\n",
    "\n",
    "# 6. FUNCTION_ENTRY - Function entry with arguments\n",
    "function_entry_trace = trace().function_entry(\"calculate\", [10, 20, 30]).build()\n",
    "print(\"6. FUNCTION_ENTRY:\")\n",
    "print(format_trace(function_entry_trace, \"Function Entry\"))\n",
    "\n",
    "# 7. RETURN - Function return value\n",
    "return_trace = trace().return_event(42).build()\n",
    "print(\"7. RETURN:\")\n",
    "print(format_trace(return_trace, \"Return Value\"))\n",
    "\n",
    "# 8. CALL - General function call (NEW!)\n",
    "call_trace = trace().call(\"process_data\", [\"input.txt\", {\"format\": \"json\"}]).build()\n",
    "print(\"8. CALL:\")\n",
    "print(format_trace(call_trace, \"Function Call\"))"
   ]
  },
  {
   "cell_type": "code",
   "execution_count": null,
   "metadata": {},
   "outputs": [],
   "source": [
    "# Example: All Assignment EventTypes\n",
    "from pywhy.events import EventType\n",
    "\n",
    "print(\"=== ALL ASSIGNMENT EVENTTYPES ===\\n\")\n",
    "\n",
    "# 1. ASSIGN - Regular variable assignment\n",
    "assign_trace = trace().assign(\"x\", 42).build()\n",
    "print(\"1. ASSIGN:\")\n",
    "print(format_trace(assign_trace, \"Variable Assignment\"))\n",
    "\n",
    "# 2. ATTR_ASSIGN - Attribute assignment  \n",
    "attr_trace = trace().attr_assign(\"obj\", \"name\", \"test_object\").build()\n",
    "print(\"2. ATTR_ASSIGN:\")\n",
    "print(format_trace(attr_trace, \"Attribute Assignment\"))\n",
    "\n",
    "# 3. SUBSCRIPT_ASSIGN - Dictionary/list index assignment\n",
    "subscript_trace = trace().subscript_assign(\"arr\", 0, \"first_item\").build()\n",
    "print(\"3. SUBSCRIPT_ASSIGN:\")\n",
    "print(format_trace(subscript_trace, \"Subscript Assignment\"))\n",
    "\n",
    "# 4. SLICE_ASSIGN - Slice assignment (NEW!)\n",
    "slice_trace = trace().slice_assign(\"arr\", 1, 3, None, [\"new\", \"items\"]).build()\n",
    "print(\"4. SLICE_ASSIGN:\")\n",
    "print(format_trace(slice_trace, \"Slice Assignment\"))\n",
    "\n",
    "# 5. AUG_ASSIGN - Augmented assignment (+=, -=, etc.)\n",
    "aug_trace = trace().aug_assign(\"counter\", 5, \"+=\").build()\n",
    "print(\"5. AUG_ASSIGN:\")\n",
    "print(format_trace(aug_trace, \"Augmented Assignment\"))"
   ]
  },
  {
   "cell_type": "markdown",
   "metadata": {},
   "source": [
    "## Comprehensive EventType Examples\n",
    "\n",
    "The DSL now supports all EventTypes. Here are examples demonstrating each one:"
   ]
  }
 ],
 "metadata": {
  "kernelspec": {
   "display_name": "Python 3 (ipykernel)",
   "language": "python",
   "name": "python3"
  },
  "language_info": {
   "codemirror_mode": {
    "name": "ipython",
    "version": 3
   },
   "file_extension": ".py",
   "mimetype": "text/x-python",
   "name": "python",
   "nbconvert_exporter": "python",
   "pygments_lexer": "ipython3",
   "version": "3.12.8"
  }
 },
 "nbformat": 4,
 "nbformat_minor": 4
}
