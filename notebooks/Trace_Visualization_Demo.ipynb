{
 "cells": [
  {
   "cell_type": "markdown",
   "metadata": {},
   "source": [
    "# Trace Visualization Demo\n",
    "\n",
    "This notebook demonstrates how to use the trace visualization functions to compare expected and actual traces in instrumentation tests."
   ]
  },
  {
   "cell_type": "code",
   "execution_count": null,
   "metadata": {},
   "outputs": [],
   "source": [
    "# Import required modules\n",
    "import sys\n",
    "import os\n",
    "\n",
    "# Add pywhy to path if needed\n",
    "sys.path.append('..')\n",
    "\n",
    "from pywhy.trace_visualization import (\n",
    "    format_trace, compare_traces, display_trace_comparison, \n",
    "    show_trace_diff, print_trace_comparison\n",
    ")\n",
    "from pywhy.trace_dsl import trace\n",
    "from pywhy.instrumenter import exec_instrumented\n",
    "from pywhy.tracer import get_tracer\n",
    "from IPython.display import HTML, display\n",
    "from pywhy.trace_visualization import create_jupyter_trace_display\n",
    "\n",
    "print(\"Modules imported successfully!\")"
   ]
  },
  {
   "cell_type": "code",
   "execution_count": null,
   "metadata": {},
   "outputs": [],
   "source": [
    "# Helper Functions for visualization\n",
    "# comparison = compare_traces(actual_events, expected_trace)\n",
    "# print(display_trace_comparison(comparison))\n",
    "\n",
    "def compare(source_code, expected, title=\"Trace Comparison\"):\n",
    "    tracer = get_tracer()  # Use global tracer\n",
    "    tracer.clear()  # Clear any previous events\n",
    "    \n",
    "    exec_instrumented(source_code)\n",
    "    actual = tracer.events\n",
    "\n",
    "    html_output = create_jupyter_trace_display(actual, expected_trace, title)\n",
    "    display(HTML(html_output))\n",
    "\n",
    "    tracer.clear()"
   ]
  },
  {
   "cell_type": "markdown",
   "metadata": {},
   "source": [
    "# Assignment"
   ]
  },
  {
   "cell_type": "code",
   "execution_count": null,
   "metadata": {},
   "outputs": [],
   "source": [
    "# Create expected trace using DSL\n",
    "source_code = \"\"\"\n",
    "x = 10\n",
    "y = 20\n",
    "z = x + y\n",
    "\"\"\"\n",
    "\n",
    "expected_trace = (\n",
    "    trace()\n",
    "    .assign(\"x\", 10)\n",
    "    .assign(\"y\", 20) \n",
    "    .assign(\"z\", 30, deps=['x','y'])\n",
    "    .build()\n",
    ")\n",
    "\n",
    "compare(source_code, expected_trace)\n"
   ]
  },
  {
   "cell_type": "markdown",
   "metadata": {},
   "source": [
    "# IF-STATEMENT"
   ]
  },
  {
   "cell_type": "code",
   "execution_count": null,
   "metadata": {},
   "outputs": [],
   "source": [
    "# Create expected trace using DSL\n",
    "source_code = \"\"\"\n",
    "x = 10\n",
    "if x <= 5:\n",
    "    x = 5\n",
    "\"\"\"\n",
    "\n",
    "expected_trace = (\n",
    "    trace()\n",
    "    .assign(\"x\", 10)\n",
    "    .branch(\"x <= 5\", False, \"skip_block\", deps=['x'])  # First condition fails, goes to elif\n",
    "    .build()\n",
    ")\n",
    "\n",
    "compare(source_code, expected_trace)"
   ]
  }
 ],
 "metadata": {
  "kernelspec": {
   "display_name": "Python 3 (ipykernel)",
   "language": "python",
   "name": "python3"
  },
  "language_info": {
   "codemirror_mode": {
    "name": "ipython",
    "version": 3
   },
   "file_extension": ".py",
   "mimetype": "text/x-python",
   "name": "python",
   "nbconvert_exporter": "python",
   "pygments_lexer": "ipython3",
   "version": "3.12.8"
  }
 },
 "nbformat": 4,
 "nbformat_minor": 4
}
