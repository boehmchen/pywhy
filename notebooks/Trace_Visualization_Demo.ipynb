{
 "cells": [
  {
   "cell_type": "markdown",
   "metadata": {},
   "source": [
    "# Trace Visualization Demo\n",
    "\n",
    "This notebook demonstrates minimal examples for each EventType with the integrated `deps` parameter for variable dependency tracking."
   ]
  },
  {
   "cell_type": "code",
   "execution_count": null,
   "metadata": {},
   "outputs": [],
   "source": [
    "# Import required modules\n",
    "import sys\n",
    "import os\n",
    "\n",
    "# Add pywhy to path if needed\n",
    "sys.path.append('..')\n",
    "\n",
    "from pywhy.trace_visualization import create_jupyter_trace_display\n",
    "from pywhy.trace_dsl import trace\n",
    "from pywhy.instrumenter import exec_instrumented\n",
    "from pywhy.tracer import get_tracer\n",
    "from IPython.display import HTML, display\n",
    "\n",
    "print(\"Modules imported successfully!\")"
   ]
  },
  {
   "cell_type": "code",
   "execution_count": null,
   "metadata": {},
   "outputs": [],
   "source": [
    "# Helper function for trace comparison\n",
    "def compare(source_code, expected_trace, title=\"Trace Comparison\"):\n",
    "    \"\"\"Compare actual execution trace with expected trace\"\"\"\n",
    "    tracer = get_tracer()\n",
    "    tracer.clear()\n",
    "    \n",
    "    exec_instrumented(source_code)\n",
    "    actual_events = tracer.events\n",
    "    \n",
    "    html_output = create_jupyter_trace_display(actual_events, expected_trace, title)\n",
    "    display(HTML(html_output))\n",
    "    \n",
    "    tracer.clear()\n",
    "\n",
    "print(\"Helper function defined!\")"
   ]
  },
  {
   "cell_type": "markdown",
   "metadata": {},
   "source": [
    "## 1. ASSIGN - Variable Assignment\n",
    "\n",
    "Simple variable assignment with dependency tracking."
   ]
  },
  {
   "cell_type": "code",
   "execution_count": null,
   "metadata": {},
   "outputs": [],
   "source": [
    "# Create expected trace using DSL\n",
    "source_code = \"\"\"\n",
    "x = 10\n",
    "y = 20\n",
    "z = x + y\n",
    "\"\"\"\n",
    "\n",
    "expected_trace = (\n",
    "    trace()\n",
    "    .assign(\"x\", 10)\n",
    "    .assign(\"y\", 20) \n",
    "    .assign(\"z\", 30, deps=['x', 'y'])\n",
    "    .build()\n",
    ")\n",
    "\n",
    "compare(source_code, expected_trace, \"ASSIGN Event\")"
   ]
  },
  {
   "cell_type": "markdown",
   "metadata": {},
   "source": [
    "## 2. AUG_ASSIGN - Augmented Assignment\n",
    "\n",
    "Augmented assignments (+=, -=, *=, etc.) with dependency tracking."
   ]
  },
  {
   "cell_type": "code",
   "execution_count": null,
   "metadata": {},
   "outputs": [],
   "source": [
    "# Create expected trace using DSL\n",
    "source_code = \"\"\"\n",
    "x = 10\n",
    "y = 5\n",
    "x += y\n",
    "\"\"\"\n",
    "\n",
    "expected_trace = (\n",
    "    trace()\n",
    "    .assign(\"x\", 10)\n",
    "    .assign(\"y\", 5)\n",
    "    .assign(\"x\", 15, \"aug\", deps=['x', 'y'])  # x += y reads both x and y\n",
    "    .build()\n",
    ")\n",
    "\n",
    "compare(source_code, expected_trace, \"AUG_ASSIGN Event\")"
   ]
  },
  {
   "cell_type": "markdown",
   "metadata": {},
   "source": [
    "## 3. BRANCH - Conditional Branches\n",
    "\n",
    "Branch events for if/else statements with condition dependency tracking."
   ]
  },
  {
   "cell_type": "code",
   "execution_count": null,
   "metadata": {},
   "outputs": [],
   "source": [
    "# Create expected trace using DSL\n",
    "source_code = \"\"\"\n",
    "x = 10\n",
    "if x > 5:\n",
    "    y = 100\n",
    "else:\n",
    "    y = 200\n",
    "\"\"\"\n",
    "\n",
    "expected_trace = (\n",
    "    trace()\n",
    "    .assign(\"x\", 10)\n",
    "    .branch(\"x > 5\", True, \"if_block\", deps=['x'])\n",
    "    .assign(\"y\", 100)\n",
    "    .build()\n",
    ")\n",
    "\n",
    "compare(source_code, expected_trace, \"BRANCH Event\")"
   ]
  },
  {
   "cell_type": "markdown",
   "metadata": {},
   "source": [
    "## 4. FUNCTION_ENTRY and RETURN - Function Calls\n",
    "\n",
    "Function entry and return events."
   ]
  },
  {
   "cell_type": "code",
   "execution_count": null,
   "metadata": {},
   "outputs": [],
   "source": [
    "# Create expected trace using DSL\n",
    "source_code = \"\"\"\n",
    "def add(a, b):\n",
    "    return a + b\n",
    "\n",
    "x = 3\n",
    "result = add(x, 4)\n",
    "\"\"\"\n",
    "\n",
    "expected_trace = (\n",
    "    trace()\n",
    "    .assign(\"x\", 3)\n",
    "    .function_entry(\"add\", [3, 4])\n",
    "    .return_event(7)\n",
    "    .assign(\"result\", 7, deps=['add', 'x'])\n",
    "    .build()\n",
    ")\n",
    "\n",
    "compare(source_code, expected_trace, \"FUNCTION_ENTRY and RETURN Events\")"
   ]
  },
  {
   "cell_type": "markdown",
   "metadata": {},
   "source": [
    "## 5. LOOP_ITERATION - For Loops\n",
    "\n",
    "Loop iteration events for for loops."
   ]
  },
  {
   "cell_type": "code",
   "execution_count": null,
   "metadata": {},
   "outputs": [],
   "source": [
    "# Create expected trace using DSL\n",
    "source_code = \"\"\"\n",
    "total = 0\n",
    "for i in [1, 2, 3]:\n",
    "    total += i\n",
    "\"\"\"\n",
    "\n",
    "expected_trace = (\n",
    "    trace()\n",
    "    .assign(\"total\", 0)\n",
    "    .loop_iteration(\"i\", 1)\n",
    "    .assign(\"total\", 1, \"aug\", deps=['i', 'total'])\n",
    "    .loop_iteration(\"i\", 2)\n",
    "    .assign(\"total\", 3, \"aug\", deps=['i', 'total'])\n",
    "    .loop_iteration(\"i\", 3)\n",
    "    .assign(\"total\", 6, \"aug\", deps=['i', 'total'])\n",
    "    .build()\n",
    ")\n",
    "\n",
    "compare(source_code, expected_trace, \"LOOP_ITERATION Event\")"
   ]
  },
  {
   "cell_type": "markdown",
   "metadata": {},
   "source": [
    "## 6. WHILE_CONDITION - While Loops\n",
    "\n",
    "While condition events with dependency tracking."
   ]
  },
  {
   "cell_type": "code",
   "execution_count": null,
   "metadata": {},
   "outputs": [],
   "source": [
    "# Create expected trace using DSL\n",
    "source_code = \"\"\"\n",
    "x = 0\n",
    "while x < 2:\n",
    "    x += 1\n",
    "\"\"\"\n",
    "\n",
    "expected_trace = (\n",
    "    trace()\n",
    "    .assign(\"x\", 0)\n",
    "    .while_condition(\"x < 2\", True, deps=['x'])\n",
    "    .assign(\"x\", 1, \"aug\", deps=['x'])\n",
    "    .while_condition(\"x < 2\", True, deps=['x'])\n",
    "    .assign(\"x\", 2, \"aug\", deps=['x'])\n",
    "    .while_condition(\"x < 2\", False, deps=['x'])\n",
    "    .build()\n",
    ")\n",
    "\n",
    "compare(source_code, expected_trace, \"WHILE_CONDITION Event\")"
   ]
  },
  {
   "cell_type": "markdown",
   "metadata": {},
   "source": [
    "## 7. ATTR_ASSIGN - Attribute Assignment\n",
    "\n",
    "Object attribute assignment events."
   ]
  },
  {
   "cell_type": "code",
   "execution_count": null,
   "metadata": {},
   "outputs": [],
   "source": [
    "# Create expected trace using DSL\n",
    "source_code = \"\"\"\n",
    "class Point:\n",
    "    def __init__(self):\n",
    "        self.x = 0\n",
    "        self.y = 0\n",
    "\n",
    "p = Point()\n",
    "p.x = 10\n",
    "\"\"\"\n",
    "\n",
    "expected_trace = (\n",
    "    trace()\n",
    "    .function_entry(\"__init__\", [])\n",
    "    .assign(\"p.x\", 0, \"attr\", obj_name=\"p\", attr_name=\"x\")\n",
    "    .assign(\"p.y\", 0, \"attr\", obj_name=\"p\", attr_name=\"y\")\n",
    "    .return_event(None)\n",
    "    .assign(\"p\", None)  # Point object\n",
    "    .assign(\"p.x\", 10, \"attr\", obj_name=\"p\", attr_name=\"x\")\n",
    "    .build()\n",
    ")\n",
    "\n",
    "compare(source_code, expected_trace, \"ATTR_ASSIGN Event\")"
   ]
  },
  {
   "cell_type": "markdown",
   "metadata": {},
   "source": [
    "## 8. SUBSCRIPT_ASSIGN - Array/Dictionary Assignment\n",
    "\n",
    "Subscript assignment events for arrays and dictionaries."
   ]
  },
  {
   "cell_type": "code",
   "execution_count": null,
   "metadata": {},
   "outputs": [],
   "source": [
    "# Create expected trace using DSL\n",
    "source_code = \"\"\"\n",
    "arr = [1, 2, 3]\n",
    "i = 1\n",
    "arr[i] = 10\n",
    "\"\"\"\n",
    "\n",
    "expected_trace = (\n",
    "    trace()\n",
    "    .assign(\"arr\", [1, 2, 3])\n",
    "    .assign(\"i\", 1)\n",
    "    .assign(\"arr[i]\", 10, \"index\", container_name=\"arr\", index=1, deps=['i'])\n",
    "    .build()\n",
    ")\n",
    "\n",
    "compare(source_code, expected_trace, \"SUBSCRIPT_ASSIGN Event\")"
   ]
  },
  {
   "cell_type": "markdown",
   "metadata": {},
   "source": [
    "## 9. SLICE_ASSIGN - Slice Assignment\n",
    "\n",
    "Slice assignment events for array slicing operations."
   ]
  },
  {
   "cell_type": "markdown",
   "metadata": {},
   "source": [
    "## 10. Complex Example - All EventTypes Together\n",
    "\n",
    "A comprehensive example showing multiple EventTypes with dependency tracking."
   ]
  },
  {
   "cell_type": "code",
   "execution_count": null,
   "metadata": {},
   "outputs": [],
   "source": [
    "# Create expected trace using DSL\n",
    "source_code = \"\"\"\n",
    "arr = [1, 2, 3, 4, 5]\n",
    "start = 1\n",
    "end = 3\n",
    "arr[start:end] = [10, 20]\n",
    "\"\"\"\n",
    "\n",
    "expected_trace = (\n",
    "    trace()\n",
    "    .assign(\"arr\", [1, 2, 3, 4, 5])\n",
    "    .assign(\"start\", 1)\n",
    "    .assign(\"end\", 3)\n",
    "    .assign(\"arr[1:3]\", [10, 20], \"slice\", container_name=\"arr\", lower=1, upper=3, step=None, deps=['start', 'end'])\n",
    "    .build()\n",
    ")\n",
    "\n",
    "compare(source_code, expected_trace, \"SLICE_ASSIGN Event\")"
   ]
  },
  {
   "cell_type": "markdown",
   "metadata": {},
   "source": [
    "## Summary\n",
    "\n",
    "This notebook demonstrates all EventTypes with integrated dependency tracking using the `deps` parameter:\n",
    "\n",
    "1. **ASSIGN**: Variable assignments with `deps` showing which variables were read\n",
    "2. **AUG_ASSIGN**: Augmented assignments (+=, -=, etc.) tracking both target and value dependencies  \n",
    "3. **BRANCH**: Conditional branches with `deps` showing which variables influenced the condition\n",
    "4. **FUNCTION_ENTRY/RETURN**: Function calls and returns\n",
    "5. **LOOP_ITERATION**: For loop iterations\n",
    "6. **WHILE_CONDITION**: While loop conditions with dependency tracking\n",
    "7. **ATTR_ASSIGN**: Object attribute assignments\n",
    "8. **SUBSCRIPT_ASSIGN**: Array/dictionary subscript assignments with index dependencies\n",
    "9. **SLICE_ASSIGN**: Array slice assignments with slice bound dependencies\n",
    "\n",
    "The `deps` parameter enables powerful dependency analysis by showing exactly which variables influenced each operation, enabling \"Why did this happen?\" questions to be answered effectively."
   ]
  },
  {
   "cell_type": "code",
   "execution_count": null,
   "metadata": {},
   "outputs": [],
   "source": [
    "# Create expected trace using DSL\n",
    "source_code = \"\"\"\n",
    "def multiply(a, b):\n",
    "    return a * b\n",
    "\n",
    "x = 5\n",
    "y = 3\n",
    "result = multiply(x, y)\n",
    "\n",
    "if result > 10:\n",
    "    values = [result, x, y]\n",
    "    values[0] = 100\n",
    "\"\"\"\n",
    "\n",
    "expected_trace = (\n",
    "    trace()\n",
    "    .assign(\"x\", 5)\n",
    "    .assign(\"y\", 3)\n",
    "    .function_entry(\"multiply\", [5, 3])\n",
    "    .return_event(15)\n",
    "    .assign(\"result\", 15)\n",
    "    .branch(\"result > 10\", True, \"if_block\", deps=['result'])\n",
    "    .assign(\"values\", [15, 5, 3], deps=['result', 'x', 'y'])\n",
    "    .assign(\"values[0]\", 100, \"index\", container_name=\"values\", index=0)\n",
    "    .build()\n",
    ")\n",
    "\n",
    "compare(source_code, expected_trace, \"Complex Example - Multiple EventTypes\")"
   ]
  },
  {
   "cell_type": "code",
   "execution_count": null,
   "metadata": {},
   "outputs": [],
   "source": []
  }
 ],
 "metadata": {
  "kernelspec": {
   "display_name": "Python 3 (ipykernel)",
   "language": "python",
   "name": "python3"
  },
  "language_info": {
   "codemirror_mode": {
    "name": "ipython",
    "version": 3
   },
   "file_extension": ".py",
   "mimetype": "text/x-python",
   "name": "python",
   "nbconvert_exporter": "python",
   "pygments_lexer": "ipython3",
   "version": "3.12.8"
  }
 },
 "nbformat": 4,
 "nbformat_minor": 4
}
