{
 "cells": [
  {
   "cell_type": "code",
   "execution_count": 1,
   "id": "a7f6096d-e54d-4cf8-83cf-6bb88eec8b6a",
   "metadata": {},
   "outputs": [],
   "source": [
    "from setup import setup_notebook\n",
    "setup_notebook()\n",
    "from pywhy import instrument_code, exec_instrumented"
   ]
  },
  {
   "cell_type": "code",
   "execution_count": 25,
   "id": "0b886c3d-9b28-4ad2-a354-4342401fe465",
   "metadata": {},
   "outputs": [
    {
     "name": "stdout",
     "output_type": "stream",
     "text": [
      "from pywhy.tracer import get_tracer\n",
      "_whyline_tracer = get_tracer()\n",
      "\n",
      "def add(a, b):\n",
      "    _whyline_tracer.record_event(6, '<string>', 2, 'function_entry', 'func_name', 'add', 'args', [a, b])\n",
      "    if a < 10:\n",
      "        _whyline_tracer.record_event(4, '<string>', 4, 'branch', 'taken', 'if')\n",
      "        c = a + b\n",
      "        _whyline_tracer.record_event(1, '<string>', 5, 'assign', 'var_name', 'c', 'value', c)\n",
      "        _whyline_tracer.record_event(2, '<string>', 6, 'return', 'value', c)\n",
      "        return c\n",
      "    _whyline_tracer.record_event(5, '<string>', 8, 'return', 'value', b)\n",
      "    return b\n",
      "a = 5\n",
      "_whyline_tracer.record_event(7, '<string>', 10, 'assign', 'var_name', 'a', 'value', a)\n",
      "b = 10\n",
      "_whyline_tracer.record_event(8, '<string>', 11, 'assign', 'var_name', 'b', 'value', b)\n",
      "add(a, b)\n"
     ]
    }
   ],
   "source": [
    "source_code = \"\"\"\n",
    "def add(a, b):\n",
    "\n",
    "    if a < 10:\n",
    "        c = a + b\n",
    "        return c\n",
    "\n",
    "    return b\n",
    "\n",
    "a = 5\n",
    "b = 10\n",
    "add(a, b)\n",
    "\n",
    "\"\"\"\n",
    "\n",
    "insturmented_code = instrument_code(source_code)\n",
    "print(insturmented_code)"
   ]
  },
  {
   "cell_type": "code",
   "execution_count": 26,
   "id": "0838c0ff",
   "metadata": {},
   "outputs": [
    {
     "data": {
      "text/plain": [
       "{'total_events': 48,\n",
       " 'event_types': {'assign': 24, 'function_entry': 9, 'return': 9, 'branch': 6},\n",
       " 'files_traced': 1,\n",
       " 'time_span': 947.9558658599854}"
      ]
     },
     "execution_count": 26,
     "metadata": {},
     "output_type": "execute_result"
    }
   ],
   "source": [
    "globals_dict = exec_instrumented(source_code)\n",
    "tracer = globals_dict[\"_whyline_tracer\"]\n",
    "tracer.get_stats()"
   ]
  },
  {
   "cell_type": "code",
   "execution_count": 27,
   "id": "e50261fa-f3a2-456f-b7be-75b06aa51a2e",
   "metadata": {},
   "outputs": [
    {
     "name": "stdout",
     "output_type": "stream",
     "text": [
      "TraceEvent(event_id=3, filename='<string>', lineno=5, event_type='assign', timestamp=1753188092.214991, thread_id=8272034496, locals_snapshot={'__builtins__': '<unpicklable: module>', '__name__': '__main__', '__file__': '<string>', 'get_tracer': <function get_tracer at 0x106da23e0>, 'add': '<unpicklable: function>', 'a': 5}, globals_snapshot={'a': 5}, args=('var_name', 'a', 'value', 5), kwargs={})\n",
      "TraceEvent(event_id=4, filename='<string>', lineno=6, event_type='assign', timestamp=1753188092.215054, thread_id=8272034496, locals_snapshot={'__builtins__': '<unpicklable: module>', '__name__': '__main__', '__file__': '<string>', 'get_tracer': <function get_tracer at 0x106da23e0>, 'add': '<unpicklable: function>', 'a': 5, 'b': 10}, globals_snapshot={'a': 5, 'b': 10}, args=('var_name', 'b', 'value', 10), kwargs={})\n",
      "TraceEvent(event_id=2, filename='<string>', lineno=2, event_type='function_entry', timestamp=1753188092.2150762, thread_id=8272034496, locals_snapshot={'a': 5, 'b': 10}, globals_snapshot={'a': 5, 'b': 10}, args=('func_name', 'add', 'args', [5, 10]), kwargs={})\n",
      "TraceEvent(event_id=1, filename='<string>', lineno=3, event_type='return', timestamp=1753188092.2150831, thread_id=8272034496, locals_snapshot={'a': 5, 'b': 10}, globals_snapshot={'a': 5, 'b': 10}, args=('value', 15), kwargs={})\n",
      "TraceEvent(event_id=3, filename='<string>', lineno=5, event_type='assign', timestamp=1753188564.2175229, thread_id=8272034496, locals_snapshot={'__builtins__': '<unpicklable: module>', '__name__': '__main__', '__file__': '<string>', 'get_tracer': <function get_tracer at 0x106da23e0>, 'add': '<unpicklable: function>', 'a': 5}, globals_snapshot={'a': 5}, args=('var_name', 'a', 'value', 5), kwargs={})\n",
      "TraceEvent(event_id=4, filename='<string>', lineno=6, event_type='assign', timestamp=1753188564.2176719, thread_id=8272034496, locals_snapshot={'__builtins__': '<unpicklable: module>', '__name__': '__main__', '__file__': '<string>', 'get_tracer': <function get_tracer at 0x106da23e0>, 'add': '<unpicklable: function>', 'a': 5, 'b': 10}, globals_snapshot={'a': 5, 'b': 10}, args=('var_name', 'b', 'value', 10), kwargs={})\n",
      "TraceEvent(event_id=2, filename='<string>', lineno=2, event_type='function_entry', timestamp=1753188564.217709, thread_id=8272034496, locals_snapshot={'a': 5, 'b': 10}, globals_snapshot={'a': 5, 'b': 10}, args=('func_name', 'add', 'args', [5, 10]), kwargs={})\n",
      "TraceEvent(event_id=1, filename='<string>', lineno=3, event_type='return', timestamp=1753188564.217723, thread_id=8272034496, locals_snapshot={'a': 5, 'b': 10}, globals_snapshot={'a': 5, 'b': 10}, args=('value', 15), kwargs={})\n",
      "TraceEvent(event_id=3, filename='<string>', lineno=5, event_type='assign', timestamp=1753188596.412735, thread_id=8272034496, locals_snapshot={'__builtins__': '<unpicklable: module>', '__name__': '__main__', '__file__': '<string>', 'get_tracer': <function get_tracer at 0x106da23e0>, 'add': '<unpicklable: function>', 'a': 5}, globals_snapshot={'a': 5}, args=('var_name', 'a', 'value', 5), kwargs={})\n",
      "TraceEvent(event_id=4, filename='<string>', lineno=6, event_type='assign', timestamp=1753188596.412801, thread_id=8272034496, locals_snapshot={'__builtins__': '<unpicklable: module>', '__name__': '__main__', '__file__': '<string>', 'get_tracer': <function get_tracer at 0x106da23e0>, 'add': '<unpicklable: function>', 'a': 5, 'b': 10}, globals_snapshot={'a': 5, 'b': 10}, args=('var_name', 'b', 'value', 10), kwargs={})\n",
      "TraceEvent(event_id=2, filename='<string>', lineno=2, event_type='function_entry', timestamp=1753188596.412836, thread_id=8272034496, locals_snapshot={'a': 5, 'b': 10}, globals_snapshot={'a': 5, 'b': 10}, args=('func_name', 'add', 'args', [5, 10]), kwargs={})\n",
      "TraceEvent(event_id=1, filename='<string>', lineno=3, event_type='return', timestamp=1753188596.41285, thread_id=8272034496, locals_snapshot={'a': 5, 'b': 10}, globals_snapshot={'a': 5, 'b': 10}, args=('value', 15), kwargs={})\n",
      "TraceEvent(event_id=7, filename='<string>', lineno=10, event_type='assign', timestamp=1753189001.075297, thread_id=8272034496, locals_snapshot={'__builtins__': '<unpicklable: module>', '__name__': '__main__', '__file__': '<string>', 'get_tracer': <function get_tracer at 0x106da23e0>, 'add': '<unpicklable: function>', 'a': 5}, globals_snapshot={'a': 5}, args=('var_name', 'a', 'value', 5), kwargs={})\n",
      "TraceEvent(event_id=8, filename='<string>', lineno=11, event_type='assign', timestamp=1753189001.075365, thread_id=8272034496, locals_snapshot={'__builtins__': '<unpicklable: module>', '__name__': '__main__', '__file__': '<string>', 'get_tracer': <function get_tracer at 0x106da23e0>, 'add': '<unpicklable: function>', 'a': 5, 'b': 10}, globals_snapshot={'a': 5, 'b': 10}, args=('var_name', 'b', 'value', 10), kwargs={})\n",
      "TraceEvent(event_id=6, filename='<string>', lineno=2, event_type='function_entry', timestamp=1753189001.075414, thread_id=8272034496, locals_snapshot={'a': 5, 'b': 10}, globals_snapshot={'a': 5, 'b': 10}, args=('func_name', 'add', 'args', [5, 10]), kwargs={})\n",
      "TraceEvent(event_id=4, filename='<string>', lineno=4, event_type='branch', timestamp=1753189001.075444, thread_id=8272034496, locals_snapshot={'a': 5, 'b': 10}, globals_snapshot={'a': 5, 'b': 10}, args=('taken', 'if'), kwargs={})\n",
      "TraceEvent(event_id=1, filename='<string>', lineno=5, event_type='assign', timestamp=1753189001.0754712, thread_id=8272034496, locals_snapshot={'a': 5, 'b': 10, 'c': 15}, globals_snapshot={'a': 5, 'b': 10}, args=('var_name', 'c', 'value', 15), kwargs={})\n",
      "TraceEvent(event_id=2, filename='<string>', lineno=6, event_type='return', timestamp=1753189001.0754979, thread_id=8272034496, locals_snapshot={'a': 5, 'b': 10, 'c': 15}, globals_snapshot={'a': 5, 'b': 10}, args=('value', 15), kwargs={})\n",
      "TraceEvent(event_id=7, filename='<string>', lineno=10, event_type='assign', timestamp=1753189011.866533, thread_id=8272034496, locals_snapshot={'__builtins__': '<unpicklable: module>', '__name__': '__main__', '__file__': '<string>', 'get_tracer': <function get_tracer at 0x106da23e0>, 'add': '<unpicklable: function>', 'a': 5}, globals_snapshot={'a': 5}, args=('var_name', 'a', 'value', 5), kwargs={})\n",
      "TraceEvent(event_id=8, filename='<string>', lineno=11, event_type='assign', timestamp=1753189011.8665972, thread_id=8272034496, locals_snapshot={'__builtins__': '<unpicklable: module>', '__name__': '__main__', '__file__': '<string>', 'get_tracer': <function get_tracer at 0x106da23e0>, 'add': '<unpicklable: function>', 'a': 5, 'b': 10}, globals_snapshot={'a': 5, 'b': 10}, args=('var_name', 'b', 'value', 10), kwargs={})\n",
      "TraceEvent(event_id=6, filename='<string>', lineno=2, event_type='function_entry', timestamp=1753189011.866632, thread_id=8272034496, locals_snapshot={'a': 5, 'b': 10}, globals_snapshot={'a': 5, 'b': 10}, args=('func_name', 'add', 'args', [5, 10]), kwargs={})\n",
      "TraceEvent(event_id=4, filename='<string>', lineno=4, event_type='branch', timestamp=1753189011.866647, thread_id=8272034496, locals_snapshot={'a': 5, 'b': 10}, globals_snapshot={'a': 5, 'b': 10}, args=('taken', 'if'), kwargs={})\n",
      "TraceEvent(event_id=1, filename='<string>', lineno=5, event_type='assign', timestamp=1753189011.86666, thread_id=8272034496, locals_snapshot={'a': 5, 'b': 10, 'c': 15}, globals_snapshot={'a': 5, 'b': 10}, args=('var_name', 'c', 'value', 15), kwargs={})\n",
      "TraceEvent(event_id=2, filename='<string>', lineno=6, event_type='return', timestamp=1753189011.866672, thread_id=8272034496, locals_snapshot={'a': 5, 'b': 10, 'c': 15}, globals_snapshot={'a': 5, 'b': 10}, args=('value', 15), kwargs={})\n",
      "TraceEvent(event_id=7, filename='<string>', lineno=10, event_type='assign', timestamp=1753189019.6388679, thread_id=8272034496, locals_snapshot={'__builtins__': '<unpicklable: module>', '__name__': '__main__', '__file__': '<string>', 'get_tracer': <function get_tracer at 0x106da23e0>, 'add': '<unpicklable: function>', 'a': 5}, globals_snapshot={'a': 5}, args=('var_name', 'a', 'value', 5), kwargs={})\n",
      "TraceEvent(event_id=8, filename='<string>', lineno=11, event_type='assign', timestamp=1753189019.638957, thread_id=8272034496, locals_snapshot={'__builtins__': '<unpicklable: module>', '__name__': '__main__', '__file__': '<string>', 'get_tracer': <function get_tracer at 0x106da23e0>, 'add': '<unpicklable: function>', 'a': 5, 'b': 10}, globals_snapshot={'a': 5, 'b': 10}, args=('var_name', 'b', 'value', 10), kwargs={})\n",
      "TraceEvent(event_id=6, filename='<string>', lineno=2, event_type='function_entry', timestamp=1753189019.6390011, thread_id=8272034496, locals_snapshot={'a': 5, 'b': 10}, globals_snapshot={'a': 5, 'b': 10}, args=('func_name', 'add', 'args', [5, 10]), kwargs={})\n",
      "TraceEvent(event_id=4, filename='<string>', lineno=4, event_type='branch', timestamp=1753189019.639019, thread_id=8272034496, locals_snapshot={'a': 5, 'b': 10}, globals_snapshot={'a': 5, 'b': 10}, args=('taken', 'if'), kwargs={})\n",
      "TraceEvent(event_id=1, filename='<string>', lineno=5, event_type='assign', timestamp=1753189019.639035, thread_id=8272034496, locals_snapshot={'a': 5, 'b': 10, 'c': 15}, globals_snapshot={'a': 5, 'b': 10}, args=('var_name', 'c', 'value', 15), kwargs={})\n",
      "TraceEvent(event_id=2, filename='<string>', lineno=6, event_type='return', timestamp=1753189019.639051, thread_id=8272034496, locals_snapshot={'a': 5, 'b': 10, 'c': 15}, globals_snapshot={'a': 5, 'b': 10}, args=('value', 15), kwargs={})\n",
      "TraceEvent(event_id=7, filename='<string>', lineno=10, event_type='assign', timestamp=1753189030.72444, thread_id=8272034496, locals_snapshot={'__builtins__': '<unpicklable: module>', '__name__': '__main__', '__file__': '<string>', 'get_tracer': <function get_tracer at 0x106da23e0>, 'add': '<unpicklable: function>', 'a': 5}, globals_snapshot={'a': 5}, args=('var_name', 'a', 'value', 5), kwargs={})\n",
      "TraceEvent(event_id=8, filename='<string>', lineno=11, event_type='assign', timestamp=1753189030.7245739, thread_id=8272034496, locals_snapshot={'__builtins__': '<unpicklable: module>', '__name__': '__main__', '__file__': '<string>', 'get_tracer': <function get_tracer at 0x106da23e0>, 'add': '<unpicklable: function>', 'a': 5, 'b': 10}, globals_snapshot={'a': 5, 'b': 10}, args=('var_name', 'b', 'value', 10), kwargs={})\n",
      "TraceEvent(event_id=6, filename='<string>', lineno=2, event_type='function_entry', timestamp=1753189030.72461, thread_id=8272034496, locals_snapshot={'a': 5, 'b': 10}, globals_snapshot={'a': 5, 'b': 10}, args=('func_name', 'add', 'args', [5, 10]), kwargs={})\n",
      "TraceEvent(event_id=4, filename='<string>', lineno=4, event_type='branch', timestamp=1753189030.7246249, thread_id=8272034496, locals_snapshot={'a': 5, 'b': 10}, globals_snapshot={'a': 5, 'b': 10}, args=('taken', 'if'), kwargs={})\n",
      "TraceEvent(event_id=1, filename='<string>', lineno=5, event_type='assign', timestamp=1753189030.724638, thread_id=8272034496, locals_snapshot={'a': 5, 'b': 10, 'c': 15}, globals_snapshot={'a': 5, 'b': 10}, args=('var_name', 'c', 'value', 15), kwargs={})\n",
      "TraceEvent(event_id=2, filename='<string>', lineno=6, event_type='return', timestamp=1753189030.724651, thread_id=8272034496, locals_snapshot={'a': 5, 'b': 10, 'c': 15}, globals_snapshot={'a': 5, 'b': 10}, args=('value', 15), kwargs={})\n",
      "TraceEvent(event_id=7, filename='<string>', lineno=10, event_type='assign', timestamp=1753189034.40357, thread_id=8272034496, locals_snapshot={'__builtins__': '<unpicklable: module>', '__name__': '__main__', '__file__': '<string>', 'get_tracer': <function get_tracer at 0x106da23e0>, 'add': '<unpicklable: function>', 'a': 5}, globals_snapshot={'a': 5}, args=('var_name', 'a', 'value', 5), kwargs={})\n",
      "TraceEvent(event_id=8, filename='<string>', lineno=11, event_type='assign', timestamp=1753189034.403698, thread_id=8272034496, locals_snapshot={'__builtins__': '<unpicklable: module>', '__name__': '__main__', '__file__': '<string>', 'get_tracer': <function get_tracer at 0x106da23e0>, 'add': '<unpicklable: function>', 'a': 5, 'b': 10}, globals_snapshot={'a': 5, 'b': 10}, args=('var_name', 'b', 'value', 10), kwargs={})\n",
      "TraceEvent(event_id=6, filename='<string>', lineno=2, event_type='function_entry', timestamp=1753189034.4037702, thread_id=8272034496, locals_snapshot={'a': 5, 'b': 10}, globals_snapshot={'a': 5, 'b': 10}, args=('func_name', 'add', 'args', [5, 10]), kwargs={})\n",
      "TraceEvent(event_id=4, filename='<string>', lineno=4, event_type='branch', timestamp=1753189034.4037929, thread_id=8272034496, locals_snapshot={'a': 5, 'b': 10}, globals_snapshot={'a': 5, 'b': 10}, args=('taken', 'if'), kwargs={})\n",
      "TraceEvent(event_id=1, filename='<string>', lineno=5, event_type='assign', timestamp=1753189034.4038138, thread_id=8272034496, locals_snapshot={'a': 5, 'b': 10, 'c': 15}, globals_snapshot={'a': 5, 'b': 10}, args=('var_name', 'c', 'value', 15), kwargs={})\n",
      "TraceEvent(event_id=2, filename='<string>', lineno=6, event_type='return', timestamp=1753189034.4038348, thread_id=8272034496, locals_snapshot={'a': 5, 'b': 10, 'c': 15}, globals_snapshot={'a': 5, 'b': 10}, args=('value', 15), kwargs={})\n",
      "TraceEvent(event_id=7, filename='<string>', lineno=10, event_type='assign', timestamp=1753189040.17071, thread_id=8272034496, locals_snapshot={'__builtins__': '<unpicklable: module>', '__name__': '__main__', '__file__': '<string>', 'get_tracer': <function get_tracer at 0x106da23e0>, 'add': '<unpicklable: function>', 'a': 5}, globals_snapshot={'a': 5}, args=('var_name', 'a', 'value', 5), kwargs={})\n",
      "TraceEvent(event_id=8, filename='<string>', lineno=11, event_type='assign', timestamp=1753189040.1707819, thread_id=8272034496, locals_snapshot={'__builtins__': '<unpicklable: module>', '__name__': '__main__', '__file__': '<string>', 'get_tracer': <function get_tracer at 0x106da23e0>, 'add': '<unpicklable: function>', 'a': 5, 'b': 10}, globals_snapshot={'a': 5, 'b': 10}, args=('var_name', 'b', 'value', 10), kwargs={})\n",
      "TraceEvent(event_id=6, filename='<string>', lineno=2, event_type='function_entry', timestamp=1753189040.1708171, thread_id=8272034496, locals_snapshot={'a': 5, 'b': 10}, globals_snapshot={'a': 5, 'b': 10}, args=('func_name', 'add', 'args', [5, 10]), kwargs={})\n",
      "TraceEvent(event_id=4, filename='<string>', lineno=4, event_type='branch', timestamp=1753189040.170832, thread_id=8272034496, locals_snapshot={'a': 5, 'b': 10}, globals_snapshot={'a': 5, 'b': 10}, args=('taken', 'if'), kwargs={})\n",
      "TraceEvent(event_id=1, filename='<string>', lineno=5, event_type='assign', timestamp=1753189040.170845, thread_id=8272034496, locals_snapshot={'a': 5, 'b': 10, 'c': 15}, globals_snapshot={'a': 5, 'b': 10}, args=('var_name', 'c', 'value', 15), kwargs={})\n",
      "TraceEvent(event_id=2, filename='<string>', lineno=6, event_type='return', timestamp=1753189040.170857, thread_id=8272034496, locals_snapshot={'a': 5, 'b': 10, 'c': 15}, globals_snapshot={'a': 5, 'b': 10}, args=('value', 15), kwargs={})\n"
     ]
    }
   ],
   "source": [
    "for event in tracer.events:\n",
    "    print(event)"
   ]
  },
  {
   "cell_type": "code",
   "execution_count": null,
   "id": "39d5389d-3c3d-453f-9195-bfe09a779afd",
   "metadata": {},
   "outputs": [],
   "source": []
  },
  {
   "cell_type": "code",
   "execution_count": null,
   "id": "cccd4105-2b90-4bbf-9fda-ef1abe2f18ab",
   "metadata": {},
   "outputs": [],
   "source": []
  }
 ],
 "metadata": {
  "kernelspec": {
   "display_name": "Python 3 (ipykernel)",
   "language": "python",
   "name": "python3"
  },
  "language_info": {
   "codemirror_mode": {
    "name": "ipython",
    "version": 3
   },
   "file_extension": ".py",
   "mimetype": "text/x-python",
   "name": "python",
   "nbconvert_exporter": "python",
   "pygments_lexer": "ipython3",
   "version": "3.12.8"
  }
 },
 "nbformat": 4,
 "nbformat_minor": 5
}
